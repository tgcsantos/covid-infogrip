{
 "metadata": {
  "language_info": {
   "codemirror_mode": {
    "name": "ipython",
    "version": 3
   },
   "file_extension": ".py",
   "mimetype": "text/x-python",
   "name": "python",
   "nbconvert_exporter": "python",
   "pygments_lexer": "ipython3",
   "version": "3.8.6-final"
  },
  "orig_nbformat": 2,
  "kernelspec": {
   "name": "Python 3.8.6 64-bit ('venv')",
   "display_name": "Python 3.8.6 64-bit ('venv')",
   "metadata": {
    "interpreter": {
     "hash": "49c6beecd5da39662e97f9dec8fdd7c01041d5ee20fd3876f5612c3bed6a6e51"
    }
   }
  }
 },
 "nbformat": 4,
 "nbformat_minor": 2,
 "cells": [
  {
   "cell_type": "code",
   "execution_count": null,
   "metadata": {},
   "outputs": [],
   "source": [
    "import pandas as pd\n",
    "import seaborn as sns\n",
    "import matplotlib.pyplot as plt\n",
    "\n",
    "url_dados = \"https://raw.githubusercontent.com/souzajvp/data_science_bootcamp/main/atila_bases/gripe_estado.csv\"\n",
    "\n",
    "dados = pd.read_csv(url_dados)\n",
    "dados.head()"
   ]
  },
  {
   "cell_type": "code",
   "execution_count": null,
   "metadata": {},
   "outputs": [],
   "source": [
    "dados.info()"
   ]
  },
  {
   "cell_type": "code",
   "execution_count": null,
   "metadata": {},
   "outputs": [],
   "source": [
    "dados[\"dado\"].unique()"
   ]
  },
  {
   "cell_type": "code",
   "execution_count": null,
   "metadata": {},
   "outputs": [],
   "source": [
    "dados[\"Casos semanais reportados até a última atualização\"]"
   ]
  },
  {
   "cell_type": "code",
   "execution_count": null,
   "metadata": {},
   "outputs": [],
   "source": [
    "#Óbito por SRAG por ano\n",
    "casos_semanais = \"Casos semanais reportados até a última atualização\"\n",
    "\n",
    "obito_ano = dados.query(\"dado in ['obito', 'obitoflu']\").groupby(\"Ano epidemiológico\").sum()\n",
    "\n",
    "obito_ano"
   ]
  },
  {
   "cell_type": "code",
   "execution_count": null,
   "metadata": {},
   "outputs": [],
   "source": [
    "plt.figure(figsize=(9,6))\n",
    "sns.barplot(x = obito_ano.index[:-1], y = casos_semanais, \n",
    "            data=obito_ano[:-1], palette = \"viridis\")\n",
    "plt.title(\"Óbitos por SRAG Ano a Ano\", fontsize = 16)\n",
    "plt.xlabel(\"Ano\",fontsize = 14)\n",
    "plt.ylabel(\"Númedo de Casos (ANO)\", fontsize = 14) \n",
    "plt.grid()\n",
    "plt.show()"
   ]
  },
  {
   "source": [
    "## Análise 2020"
   ],
   "cell_type": "markdown",
   "metadata": {}
  },
  {
   "cell_type": "code",
   "execution_count": null,
   "metadata": {},
   "outputs": [],
   "source": [
    "obito_covid = dados.query(\"dado == 'obitocovid' & `Ano epidemiológico` == 2020\")\n",
    "#obito_covid = dados.query(\"dado == 'obitocovid'\")\n",
    "obito_covid[\"Ano epidemiológico\"].unique()"
   ]
  },
  {
   "cell_type": "code",
   "execution_count": null,
   "metadata": {},
   "outputs": [],
   "source": [
    "obito_covid[casos_semanais].sum()"
   ]
  },
  {
   "cell_type": "code",
   "execution_count": null,
   "metadata": {},
   "outputs": [],
   "source": [
    "obito_ano[casos_semanais][2020] = obito_ano[casos_semanais][2020] - obito_covid[casos_semanais].sum()"
   ]
  },
  {
   "cell_type": "code",
   "execution_count": null,
   "metadata": {},
   "outputs": [],
   "source": [
    "obito_ano[casos_semanais][2020] "
   ]
  },
  {
   "cell_type": "code",
   "execution_count": null,
   "metadata": {},
   "outputs": [],
   "source": [
    "plt.figure(figsize=(9,6))\n",
    "sns.barplot(x = obito_ano.index, y = casos_semanais, \n",
    "            data=obito_ano, palette = \"viridis\")\n",
    "plt.title(\"Óbitos por SRAG Ano a Ano\", fontsize = 16)\n",
    "plt.xlabel(\"Ano\",fontsize = 14)\n",
    "plt.ylabel(\"Númedo de Casos (ANO)\", fontsize = 14) \n",
    "plt.grid()\n",
    "plt.show()"
   ]
  },
  {
   "cell_type": "code",
   "execution_count": null,
   "metadata": {},
   "outputs": [],
   "source": [
    "##Erro estranho aqui, quando usado MAX\n",
    "previsao_semanal = dados.query(\"dado in ['obito'] &`Ano epidemiológico` in [2016, 2017, 2018, 2019]\").groupby([\"Semana epidemiológica\"]).sum()\n",
    "\n",
    "(previsao_semanal[casos_semanais]/3).sum()"
   ]
  },
  {
   "cell_type": "code",
   "execution_count": null,
   "metadata": {},
   "outputs": [],
   "source": [
    "previsao_semanal"
   ]
  },
  {
   "cell_type": "code",
   "execution_count": null,
   "metadata": {},
   "outputs": [],
   "source": [
    "obito_ano[casos_semanais][2020] = previsao_semanal[casos_semanais].sum()\n",
    "plt.figure(figsize=(9,6))\n",
    "sns.barplot(x = obito_ano.index, y = casos_semanais, \n",
    "            data=obito_ano, palette = \"viridis\")\n",
    "plt.title(\"Óbitos por SRAG + Previsão 2020\", fontsize = 16)\n",
    "plt.xlabel(\"Ano\",fontsize = 14)\n",
    "plt.ylabel(\"Númedo de Casos (ANO)\", fontsize = 14) \n",
    "plt.grid()\n",
    "plt.show()"
   ]
  },
  {
   "cell_type": "code",
   "execution_count": null,
   "metadata": {},
   "outputs": [],
   "source": [
    "obito_covid.groupby(\"Semana epidemiológica\").sum().reset_index()"
   ]
  },
  {
   "cell_type": "code",
   "execution_count": null,
   "metadata": {},
   "outputs": [],
   "source": [
    "sns.lineplot(x = \"Semana epidemiológica\", y = casos_semanais, data= obito_covid.query(\"`Unidade da Federação` == 'São Paulo'\").groupby(\"Semana epidemiológica\").sum().reset_index())\n",
    "sns.lineplot(x = \"Semana epidemiológica\", y = casos_semanais, data= previsao_semanal.reset_index())\n"
   ]
  },
  {
   "cell_type": "code",
   "execution_count": null,
   "metadata": {},
   "outputs": [],
   "source": [
    "sns.lineplot(x = \"Semana epidemiológica\", y = casos_semanais, data= previsao_semanal.reset_index(), estimator=max)"
   ]
  },
  {
   "cell_type": "code",
   "execution_count": null,
   "metadata": {},
   "outputs": [],
   "source": []
  },
  {
   "cell_type": "code",
   "execution_count": null,
   "metadata": {},
   "outputs": [],
   "source": []
  }
 ]
}